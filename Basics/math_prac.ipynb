{
 "cells": [
  {
   "cell_type": "code",
   "execution_count": 1,
   "metadata": {},
   "outputs": [
    {
     "name": "stdout",
     "output_type": "stream",
     "text": [
      "8\n",
      "2\n",
      "15\n",
      "1.6666666666666667\n",
      "2\n",
      "125\n",
      "1\n"
     ]
    }
   ],
   "source": [
    "\n",
    "# 수식\n",
    "print(5 + 3)    # 더하기\n",
    "print(5 - 3)    # 빼기\n",
    "print(5 * 3)    # 곱하기\n",
    "print(5 / 3)    # 나누기\n",
    "print(5 % 3)    # 나머지\n",
    "print(5 ** 3)   # 제곱\n",
    "print(5 // 3)   # 몫"
   ]
  },
  {
   "cell_type": "code",
   "execution_count": 2,
   "metadata": {},
   "outputs": [
    {
     "name": "stdout",
     "output_type": "stream",
     "text": [
      "3\n",
      "5\n",
      "1\n",
      "16\n",
      "4\n",
      "5\n",
      "6\n",
      "3\n",
      "(1, 3)\n"
     ]
    }
   ],
   "source": [
    "# 숫자 함수\n",
    "print(abs(-3))              #절대값         # 3               \n",
    "print(max(1, 2, 3, 4, 5))   #최대값         # 5\n",
    "print(min(1, 2, 3, 4, 5))   #최소값         # 1\n",
    "print(pow(2, 4))            #제곱           # 16\n",
    "print(round(4.12))          #반올림         # 4\n",
    "print(round(4.75))          #반올림         # 5\n",
    "print(sum([1, 2, 3]))       #합계           # 6\n",
    "print(sum([],3))            #합계가 비어있을 경우 기본값을 출력     # 3 \n",
    "print(divmod(10, 7))        #몫과 나머지     # (1, 3)"
   ]
  },
  {
   "cell_type": "code",
   "execution_count": 3,
   "metadata": {},
   "outputs": [
    {
     "name": "stdout",
     "output_type": "stream",
     "text": [
      "3\n",
      "3.23\n",
      "4\n",
      "3\n",
      "3\n",
      "11.0\n",
      "8.0\n",
      "120\n",
      "5\n",
      "7.0\n",
      "1.7099759466766968\n",
      "3.141592653589793\n",
      "180.0\n",
      "-0.8011526357338304\n",
      "6.907755278982137\n",
      "10.0\n",
      "3.0\n",
      "2.9999999999999996\n"
     ]
    }
   ],
   "source": [
    "# math 함수\n",
    "from math import *\n",
    "\n",
    "print(round(3.2344))        # 반올림            # 3\n",
    "print(round(3.2344, 2))                        # 3.23\n",
    "print(ceil(3.2344))         # 내림              # 4\n",
    "print(floor(3.2344))        # 올림              # 3\n",
    "print(trunc(3.2344))        # 버림              # 3\n",
    "\n",
    "print(fabs(-11))            # 절대값            # 11.0\n",
    "print(pow(2, 3))            # 거듭제곱          # 8.0\n",
    "print(factorial(5))         # 팩토리얼          # 120\n",
    "print(gcd(10, 15))          # 최대공약수        # 5\n",
    "print(sqrt(49))             # 제곱근            # 7.0\n",
    "\n",
    "print(5**(1/3))             # m의 1/n승         # 1.8171205928321397\n",
    "\n",
    "print(radians(180))         # 라디안 값 변환     # 3.141592653589793\n",
    "print(degrees(pi))          # 일반 각도 값 변환  # 180.0\n",
    "print(sin(180))             # 사인              # -0.8011526357338304\n",
    "# cos() ~ atan() 생략\n",
    "\n",
    "print(log(1000))            # 로그 함수             # 6.907755278982137\n",
    "print(log2(1024))           # 밑이 2인 로그 함수     # 10.0\n",
    "print(log10(1000))          # 밑이 10인 로그 함수    # 3.0\n",
    "print(log(1000, 10))           # 밑이 n인 로그 함수  # 2.9999999999999996\n"
   ]
  },
  {
   "cell_type": "code",
   "execution_count": null,
   "metadata": {},
   "outputs": [],
   "source": []
  }
 ],
 "metadata": {
  "interpreter": {
   "hash": "99e46d727ad3bc0862b3a79f6859c086d3af06edd91e12f30e8418e44fa8ef64"
  },
  "kernelspec": {
   "display_name": "Python 3.10.2 64-bit",
   "language": "python",
   "name": "python3"
  },
  "language_info": {
   "codemirror_mode": {
    "name": "ipython",
    "version": 3
   },
   "file_extension": ".py",
   "mimetype": "text/x-python",
   "name": "python",
   "nbconvert_exporter": "python",
   "pygments_lexer": "ipython3",
   "version": "3.10.2"
  },
  "orig_nbformat": 4
 },
 "nbformat": 4,
 "nbformat_minor": 2
}
